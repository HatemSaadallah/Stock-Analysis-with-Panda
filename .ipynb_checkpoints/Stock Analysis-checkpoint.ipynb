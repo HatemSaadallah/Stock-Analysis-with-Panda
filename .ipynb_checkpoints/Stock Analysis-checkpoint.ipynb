{
 "metadata": {
  "name": "",
  "signature": "sha256:effb8eb3f4f74f72102108705afc674ac36bc20e50ae82d08b7be1956e72ad97"
 },
 "nbformat": 3,
 "nbformat_minor": 0,
 "worksheets": [
  {
   "cells": [
    {
     "cell_type": "heading",
     "level": 1,
     "metadata": {},
     "source": [
      "Stock Analysis with Pandas Library"
     ]
    },
    {
     "cell_type": "code",
     "collapsed": false,
     "input": [
      "import pandas as pd\n",
      "import numpy as np\n",
      "import matplotlib.pyplot as plt"
     ],
     "language": "python",
     "metadata": {},
     "outputs": []
    },
    {
     "cell_type": "heading",
     "level": 2,
     "metadata": {},
     "source": [
      "Read CSV File"
     ]
    },
    {
     "cell_type": "code",
     "collapsed": false,
     "input": [
      "ticker = 'AAPL'\n",
      "\n",
      "url = 'http://www.google.com/finance/historical?output=csv&q=' + ticker\n",
      "stock_data = pd.read_csv(url)\n",
      "stock_data.columns = [col.decode(\"utf-8-sig\") for col in stock_data.columns]\n",
      "stock_data"
     ],
     "language": "python",
     "metadata": {},
     "outputs": []
    },
    {
     "cell_type": "heading",
     "level": 2,
     "metadata": {},
     "source": [
      "Simple Operations"
     ]
    },
    {
     "cell_type": "code",
     "collapsed": false,
     "input": [
      "stock_data['Low'].min()"
     ],
     "language": "python",
     "metadata": {},
     "outputs": []
    },
    {
     "cell_type": "code",
     "collapsed": false,
     "input": [
      "stock_data['High'].max()"
     ],
     "language": "python",
     "metadata": {},
     "outputs": []
    },
    {
     "cell_type": "code",
     "collapsed": false,
     "input": [
      "stock_data['Range'] = stock_data['High'] - stock_data['Low']\n",
      "stock_data"
     ],
     "language": "python",
     "metadata": {},
     "outputs": []
    },
    {
     "cell_type": "code",
     "collapsed": false,
     "input": [
      "stock_data['Range'].mean()"
     ],
     "language": "python",
     "metadata": {},
     "outputs": []
    },
    {
     "cell_type": "code",
     "collapsed": false,
     "input": [
      "stock_data['Range'].max()"
     ],
     "language": "python",
     "metadata": {},
     "outputs": []
    },
    {
     "cell_type": "heading",
     "level": 2,
     "metadata": {},
     "source": [
      "Day to Day Price Change"
     ]
    },
    {
     "cell_type": "code",
     "collapsed": false,
     "input": [
      "day_change = np.array([])\n",
      "day_percent_change = np.array([])\n",
      "\n",
      "for i in range(len(stock_data)-1):\n",
      "    today = stock_data.iloc[i].loc['Close']\n",
      "    yesterday = stock_data.iloc[i + 1].loc['Close']\n",
      "    change = today-yesterday\n",
      "    day_change = np.append(day_change, [change])\n",
      "    \n",
      "    percent_change = str(np.round(change/today*100, 2)) + '%'\n",
      "    day_percent_change = np.append(day_percent_change, [percent_change])\n",
      "\n",
      "day_change = np.append(day_change, ['No Previous Day'])\n",
      "day_percent_change = np.append(day_percent_change, ['No Previous Day'])"
     ],
     "language": "python",
     "metadata": {},
     "outputs": []
    },
    {
     "cell_type": "code",
     "collapsed": false,
     "input": [
      "day_change"
     ],
     "language": "python",
     "metadata": {},
     "outputs": []
    },
    {
     "cell_type": "code",
     "collapsed": false,
     "input": [
      "day_percent_change"
     ],
     "language": "python",
     "metadata": {},
     "outputs": []
    },
    {
     "cell_type": "code",
     "collapsed": false,
     "input": [
      "stock_data['Yesterday to Today'] = day_change\n",
      "stock_data['Percent Change'] = day_percent_change\n",
      "stock_data"
     ],
     "language": "python",
     "metadata": {},
     "outputs": []
    },
    {
     "cell_type": "heading",
     "level": 2,
     "metadata": {},
     "source": [
      "Moving Average"
     ]
    },
    {
     "cell_type": "code",
     "collapsed": false,
     "input": [
      "thirty_day_moving_average = np.array([])\n",
      "dates = np.array([])\n",
      "\n",
      "for i in range(len(stock_data)-30):\n",
      "    average = stock_data[i:30+i]['Close'].mean()\n",
      "    thirty_day_moving_average = np.append(thirty_day_moving_average, [average])\n",
      "    dates = np.append(dates, [stock_data.iloc[i].loc['Date']])\n",
      "\n",
      "thirty_day_moving_average"
     ],
     "language": "python",
     "metadata": {},
     "outputs": []
    },
    {
     "cell_type": "code",
     "collapsed": false,
     "input": [
      "moving_average = pd.DataFrame({'Date': dates,\n",
      "                               '30 Day Moving Average': thirty_day_moving_average})\n",
      "moving_average"
     ],
     "language": "python",
     "metadata": {},
     "outputs": []
    },
    {
     "cell_type": "code",
     "collapsed": false,
     "input": [
      "cols = moving_average.columns.tolist()\n",
      "cols.reverse()\n",
      "cols"
     ],
     "language": "python",
     "metadata": {},
     "outputs": []
    },
    {
     "cell_type": "code",
     "collapsed": false,
     "input": [
      "moving_average = moving_average[cols]\n",
      "moving_average"
     ],
     "language": "python",
     "metadata": {},
     "outputs": []
    },
    {
     "cell_type": "heading",
     "level": 2,
     "metadata": {},
     "source": [
      "Plotting"
     ]
    },
    {
     "cell_type": "code",
     "collapsed": false,
     "input": [
      "moving_average['Date'] = pd.to_datetime(moving_average['Date'])\n",
      "moving_average"
     ],
     "language": "python",
     "metadata": {},
     "outputs": []
    },
    {
     "cell_type": "code",
     "collapsed": false,
     "input": [
      "moving_average.plot(x='Date', y='30 Day Moving Average')"
     ],
     "language": "python",
     "metadata": {},
     "outputs": []
    },
    {
     "cell_type": "code",
     "collapsed": false,
     "input": [
      "stock_data['Date'] = pd.to_datetime(stock_data['Date'])\n",
      "stock_data"
     ],
     "language": "python",
     "metadata": {},
     "outputs": []
    },
    {
     "cell_type": "code",
     "collapsed": false,
     "input": [
      "stock_data.plot(x='Date', y='Close')"
     ],
     "language": "python",
     "metadata": {},
     "outputs": []
    }
   ],
   "metadata": {}
  }
 ]
}